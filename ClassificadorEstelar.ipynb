{
 "cells": [
  {
   "cell_type": "code",
   "execution_count": 3,
   "metadata": {},
   "outputs": [],
   "source": [
    "import pandas as pd\n",
    "from sklearn.neighbors import KNeighborsClassifier # knn\n",
    "from sklearn.model_selection import train_test_split # separação de treino e teste\n",
    "from sklearn.metrics import accuracy_score # para medir a acurácia\n",
    "from sklearn.model_selection import RandomizedSearchCV # para aumentar a acuracia"
   ]
  },
  {
   "cell_type": "code",
   "execution_count": 4,
   "metadata": {},
   "outputs": [],
   "source": [
    "\n",
    "df = pd.read_csv(\"https://raw.githubusercontent.com/semcovici/Datasets/main/StellarClassification/Star39552_balanced.csv\")\n",
    "category = df.pop(\"SpType\")"
   ]
  },
  {
   "cell_type": "code",
   "execution_count": 5,
   "metadata": {},
   "outputs": [
    {
     "name": "stdout",
     "output_type": "stream",
     "text": [
      "Features:\n",
      "        Vmag    Plx  e_Plx    B-V       Amag\n",
      "0      10.00  31.66   6.19  1.213  22.502556\n",
      "1       8.26   3.21   1.00  1.130  15.792525\n",
      "2       8.27  12.75   1.06  0.596  18.797552\n",
      "3       6.54   5.23   0.76  1.189  15.132508\n",
      "4       8.52   0.96   0.72  0.173  13.431356\n",
      "...      ...    ...    ...    ...        ...\n",
      "39547   5.83   0.17   0.52  0.474   6.982245\n",
      "39548   7.05  18.12   0.92  0.424  18.340790\n",
      "39549   9.21   3.89   1.46  0.227  17.159748\n",
      "39550   9.01   2.13   1.46  1.467  15.651898\n",
      "39551   9.12   3.82   0.79  0.480  17.030317\n",
      "\n",
      "[39552 rows x 5 columns]\n",
      "\n",
      "\n",
      "Label:\n",
      "0        1\n",
      "1        0\n",
      "2        1\n",
      "3        0\n",
      "4        1\n",
      "        ..\n",
      "39547    0\n",
      "39548    1\n",
      "39549    1\n",
      "39550    0\n",
      "39551    1\n",
      "Name: TargetClass, Length: 39552, dtype: int64\n"
     ]
    }
   ],
   "source": [
    "y = df.pop('TargetClass')\n",
    "X = df\n",
    "print('Features:')\n",
    "print(X)\n",
    "print('\\n\\nLabel:')\n",
    "print(y)"
   ]
  },
  {
   "cell_type": "code",
   "execution_count": 6,
   "metadata": {},
   "outputs": [],
   "source": [
    "x_train,x_test ,y_train,y_test = train_test_split(X,y , test_size= 0.3)"
   ]
  },
  {
   "cell_type": "code",
   "execution_count": 7,
   "metadata": {},
   "outputs": [
    {
     "name": "stdout",
     "output_type": "stream",
     "text": [
      "Accuracy: 0.875779538176302\n"
     ]
    }
   ],
   "source": [
    "knn = KNeighborsClassifier(n_neighbors=42)\n",
    "knn.fit(x_train, y_train)\n",
    "y_pred = knn.predict(x_test)\n",
    "accuracy = accuracy_score(y_test, y_pred)\n",
    "print(\"Accuracy:\", accuracy)\n"
   ]
  },
  {
   "cell_type": "markdown",
   "metadata": {},
   "source": [
    "from sklearn.model_selection import RandomizedSearchCV\n",
    "k_values = list(range(1, 300))\n",
    "knn = KNeighborsClassifier()\n",
    "dic = {'n_neighbors':k_values}\n",
    "random_search = RandomizedSearchCV(knn, dic, n_iter=3, cv=5, random_state=42)\n",
    "random_search.fit(x_train, y_train)\n",
    "print(\"Melhores parâmetros encontrados:\", random_search.best_params_)"
   ]
  },
  {
   "cell_type": "code",
   "execution_count": 8,
   "metadata": {},
   "outputs": [],
   "source": [
    "from sklearn.metrics import confusion_matrix\n",
    "cm = confusion_matrix(y_test,y_pred)\n"
   ]
  },
  {
   "cell_type": "code",
   "execution_count": 9,
   "metadata": {},
   "outputs": [
    {
     "name": "stdout",
     "output_type": "stream",
     "text": [
      "Acurácia: 0.875779538176302\n",
      "Precisão: 0.8912193387842161\n",
      "Revocação (Sensibilidade): 0.8533015656909462\n",
      "Especificidade: 0.8978297161936561\n",
      "F1-Score: 0.871848374195792\n",
      "Taxa de Falsos Positivos: 0.10217028380634391\n"
     ]
    }
   ],
   "source": [
    "# Extrair os valores da matriz de confusão\n",
    "TP = cm[0, 0]\n",
    "TN = cm[1, 1]\n",
    "FP = cm[1, 0]\n",
    "FN = cm[0, 1]\n",
    "\n",
    "# Calcular as métricas\n",
    "accuracy = (TP + TN) / (TP + TN + FP + FN)\n",
    "precision = TP / (TP + FP)\n",
    "recall = TP / (TP + FN)\n",
    "specificity = TN / (TN + FP)\n",
    "f1_score = 2 * (precision * recall) / (precision + recall)\n",
    "false_positive_rate = FP / (FP + TN)\n",
    "\n",
    "# Mostrar os valores das métricas\n",
    "print(\"Acurácia:\", accuracy)\n",
    "print(\"Precisão:\", precision)\n",
    "print(\"Revocação (Sensibilidade):\", recall)\n",
    "print(\"Especificidade:\", specificity)\n",
    "print(\"F1-Score:\", f1_score)\n",
    "print(\"Taxa de Falsos Positivos:\", false_positive_rate)\n"
   ]
  },
  {
   "cell_type": "code",
   "execution_count": 10,
   "metadata": {},
   "outputs": [
    {
     "data": {
      "text/plain": [
       "SpType\n",
       "K0III         2841\n",
       "K1III         1742\n",
       "K2III         1479\n",
       "G8III         1474\n",
       "K3III         1097\n",
       "              ... \n",
       "K3II+...         1\n",
       "B2/B3V:nn        1\n",
       "WC8 + O9I        1\n",
       "F0/F2V+...       1\n",
       "M3/M4III:        1\n",
       "Name: count, Length: 2576, dtype: int64"
      ]
     },
     "execution_count": 10,
     "metadata": {},
     "output_type": "execute_result"
    }
   ],
   "source": [
    "import category_encoders as ce\n",
    "moda = category.value_counts()\n",
    "moda\n"
   ]
  },
  {
   "cell_type": "code",
   "execution_count": 11,
   "metadata": {},
   "outputs": [
    {
     "data": {
      "text/html": [
       "<div>\n",
       "<style scoped>\n",
       "    .dataframe tbody tr th:only-of-type {\n",
       "        vertical-align: middle;\n",
       "    }\n",
       "\n",
       "    .dataframe tbody tr th {\n",
       "        vertical-align: top;\n",
       "    }\n",
       "\n",
       "    .dataframe thead th {\n",
       "        text-align: right;\n",
       "    }\n",
       "</style>\n",
       "<table border=\"1\" class=\"dataframe\">\n",
       "  <thead>\n",
       "    <tr style=\"text-align: right;\">\n",
       "      <th></th>\n",
       "      <th>Vmag</th>\n",
       "      <th>Plx</th>\n",
       "      <th>e_Plx</th>\n",
       "      <th>B-V</th>\n",
       "      <th>Amag</th>\n",
       "      <th>TargetEncoded</th>\n",
       "    </tr>\n",
       "  </thead>\n",
       "  <tbody>\n",
       "    <tr>\n",
       "      <th>0</th>\n",
       "      <td>10.00</td>\n",
       "      <td>31.66</td>\n",
       "      <td>6.19</td>\n",
       "      <td>1.213</td>\n",
       "      <td>22.502556</td>\n",
       "      <td>K7V</td>\n",
       "    </tr>\n",
       "    <tr>\n",
       "      <th>1</th>\n",
       "      <td>8.26</td>\n",
       "      <td>3.21</td>\n",
       "      <td>1.00</td>\n",
       "      <td>1.130</td>\n",
       "      <td>15.792525</td>\n",
       "      <td>K0III</td>\n",
       "    </tr>\n",
       "    <tr>\n",
       "      <th>2</th>\n",
       "      <td>8.27</td>\n",
       "      <td>12.75</td>\n",
       "      <td>1.06</td>\n",
       "      <td>0.596</td>\n",
       "      <td>18.797552</td>\n",
       "      <td>F9V</td>\n",
       "    </tr>\n",
       "    <tr>\n",
       "      <th>3</th>\n",
       "      <td>6.54</td>\n",
       "      <td>5.23</td>\n",
       "      <td>0.76</td>\n",
       "      <td>1.189</td>\n",
       "      <td>15.132508</td>\n",
       "      <td>K1III</td>\n",
       "    </tr>\n",
       "    <tr>\n",
       "      <th>4</th>\n",
       "      <td>8.52</td>\n",
       "      <td>0.96</td>\n",
       "      <td>0.72</td>\n",
       "      <td>0.173</td>\n",
       "      <td>13.431356</td>\n",
       "      <td>B8V</td>\n",
       "    </tr>\n",
       "    <tr>\n",
       "      <th>...</th>\n",
       "      <td>...</td>\n",
       "      <td>...</td>\n",
       "      <td>...</td>\n",
       "      <td>...</td>\n",
       "      <td>...</td>\n",
       "      <td>...</td>\n",
       "    </tr>\n",
       "    <tr>\n",
       "      <th>39547</th>\n",
       "      <td>5.83</td>\n",
       "      <td>0.17</td>\n",
       "      <td>0.52</td>\n",
       "      <td>0.474</td>\n",
       "      <td>6.982245</td>\n",
       "      <td>B7Iab</td>\n",
       "    </tr>\n",
       "    <tr>\n",
       "      <th>39548</th>\n",
       "      <td>7.05</td>\n",
       "      <td>18.12</td>\n",
       "      <td>0.92</td>\n",
       "      <td>0.424</td>\n",
       "      <td>18.340790</td>\n",
       "      <td>F5V</td>\n",
       "    </tr>\n",
       "    <tr>\n",
       "      <th>39549</th>\n",
       "      <td>9.21</td>\n",
       "      <td>3.89</td>\n",
       "      <td>1.46</td>\n",
       "      <td>0.227</td>\n",
       "      <td>17.159748</td>\n",
       "      <td>A1IV</td>\n",
       "    </tr>\n",
       "    <tr>\n",
       "      <th>39550</th>\n",
       "      <td>9.01</td>\n",
       "      <td>2.13</td>\n",
       "      <td>1.46</td>\n",
       "      <td>1.467</td>\n",
       "      <td>15.651898</td>\n",
       "      <td>M5III</td>\n",
       "    </tr>\n",
       "    <tr>\n",
       "      <th>39551</th>\n",
       "      <td>9.12</td>\n",
       "      <td>3.82</td>\n",
       "      <td>0.79</td>\n",
       "      <td>0.480</td>\n",
       "      <td>17.030317</td>\n",
       "      <td>F5V</td>\n",
       "    </tr>\n",
       "  </tbody>\n",
       "</table>\n",
       "<p>39552 rows × 6 columns</p>\n",
       "</div>"
      ],
      "text/plain": [
       "        Vmag    Plx  e_Plx    B-V       Amag TargetEncoded\n",
       "0      10.00  31.66   6.19  1.213  22.502556           K7V\n",
       "1       8.26   3.21   1.00  1.130  15.792525         K0III\n",
       "2       8.27  12.75   1.06  0.596  18.797552           F9V\n",
       "3       6.54   5.23   0.76  1.189  15.132508         K1III\n",
       "4       8.52   0.96   0.72  0.173  13.431356           B8V\n",
       "...      ...    ...    ...    ...        ...           ...\n",
       "39547   5.83   0.17   0.52  0.474   6.982245         B7Iab\n",
       "39548   7.05  18.12   0.92  0.424  18.340790           F5V\n",
       "39549   9.21   3.89   1.46  0.227  17.159748          A1IV\n",
       "39550   9.01   2.13   1.46  1.467  15.651898         M5III\n",
       "39551   9.12   3.82   0.79  0.480  17.030317           F5V\n",
       "\n",
       "[39552 rows x 6 columns]"
      ]
     },
     "execution_count": 11,
     "metadata": {},
     "output_type": "execute_result"
    }
   ],
   "source": [
    "df['TargetEncoded'] = category\n",
    "df"
   ]
  },
  {
   "cell_type": "code",
   "execution_count": 12,
   "metadata": {},
   "outputs": [
    {
     "data": {
      "text/html": [
       "<div>\n",
       "<style scoped>\n",
       "    .dataframe tbody tr th:only-of-type {\n",
       "        vertical-align: middle;\n",
       "    }\n",
       "\n",
       "    .dataframe tbody tr th {\n",
       "        vertical-align: top;\n",
       "    }\n",
       "\n",
       "    .dataframe thead th {\n",
       "        text-align: right;\n",
       "    }\n",
       "</style>\n",
       "<table border=\"1\" class=\"dataframe\">\n",
       "  <thead>\n",
       "    <tr style=\"text-align: right;\">\n",
       "      <th></th>\n",
       "      <th>Vmag</th>\n",
       "      <th>Plx</th>\n",
       "      <th>e_Plx</th>\n",
       "      <th>B-V</th>\n",
       "      <th>Amag</th>\n",
       "      <th>TargetEncoded</th>\n",
       "    </tr>\n",
       "  </thead>\n",
       "  <tbody>\n",
       "    <tr>\n",
       "      <th>0</th>\n",
       "      <td>10.00</td>\n",
       "      <td>31.66</td>\n",
       "      <td>6.19</td>\n",
       "      <td>1.213</td>\n",
       "      <td>22.502556</td>\n",
       "      <td>0.978446</td>\n",
       "    </tr>\n",
       "    <tr>\n",
       "      <th>1</th>\n",
       "      <td>8.26</td>\n",
       "      <td>3.21</td>\n",
       "      <td>1.00</td>\n",
       "      <td>1.130</td>\n",
       "      <td>15.792525</td>\n",
       "      <td>0.000000</td>\n",
       "    </tr>\n",
       "    <tr>\n",
       "      <th>2</th>\n",
       "      <td>8.27</td>\n",
       "      <td>12.75</td>\n",
       "      <td>1.06</td>\n",
       "      <td>0.596</td>\n",
       "      <td>18.797552</td>\n",
       "      <td>0.940399</td>\n",
       "    </tr>\n",
       "    <tr>\n",
       "      <th>3</th>\n",
       "      <td>6.54</td>\n",
       "      <td>5.23</td>\n",
       "      <td>0.76</td>\n",
       "      <td>1.189</td>\n",
       "      <td>15.132508</td>\n",
       "      <td>0.000000</td>\n",
       "    </tr>\n",
       "    <tr>\n",
       "      <th>4</th>\n",
       "      <td>8.52</td>\n",
       "      <td>0.96</td>\n",
       "      <td>0.72</td>\n",
       "      <td>0.173</td>\n",
       "      <td>13.431356</td>\n",
       "      <td>1.000000</td>\n",
       "    </tr>\n",
       "    <tr>\n",
       "      <th>...</th>\n",
       "      <td>...</td>\n",
       "      <td>...</td>\n",
       "      <td>...</td>\n",
       "      <td>...</td>\n",
       "      <td>...</td>\n",
       "      <td>...</td>\n",
       "    </tr>\n",
       "    <tr>\n",
       "      <th>39547</th>\n",
       "      <td>5.83</td>\n",
       "      <td>0.17</td>\n",
       "      <td>0.52</td>\n",
       "      <td>0.474</td>\n",
       "      <td>6.982245</td>\n",
       "      <td>0.429074</td>\n",
       "    </tr>\n",
       "    <tr>\n",
       "      <th>39548</th>\n",
       "      <td>7.05</td>\n",
       "      <td>18.12</td>\n",
       "      <td>0.92</td>\n",
       "      <td>0.424</td>\n",
       "      <td>18.340790</td>\n",
       "      <td>1.000000</td>\n",
       "    </tr>\n",
       "    <tr>\n",
       "      <th>39549</th>\n",
       "      <td>9.21</td>\n",
       "      <td>3.89</td>\n",
       "      <td>1.46</td>\n",
       "      <td>0.227</td>\n",
       "      <td>17.159748</td>\n",
       "      <td>0.982214</td>\n",
       "    </tr>\n",
       "    <tr>\n",
       "      <th>39550</th>\n",
       "      <td>9.01</td>\n",
       "      <td>2.13</td>\n",
       "      <td>1.46</td>\n",
       "      <td>1.467</td>\n",
       "      <td>15.651898</td>\n",
       "      <td>0.008993</td>\n",
       "    </tr>\n",
       "    <tr>\n",
       "      <th>39551</th>\n",
       "      <td>9.12</td>\n",
       "      <td>3.82</td>\n",
       "      <td>0.79</td>\n",
       "      <td>0.480</td>\n",
       "      <td>17.030317</td>\n",
       "      <td>1.000000</td>\n",
       "    </tr>\n",
       "  </tbody>\n",
       "</table>\n",
       "<p>39552 rows × 6 columns</p>\n",
       "</div>"
      ],
      "text/plain": [
       "        Vmag    Plx  e_Plx    B-V       Amag  TargetEncoded\n",
       "0      10.00  31.66   6.19  1.213  22.502556       0.978446\n",
       "1       8.26   3.21   1.00  1.130  15.792525       0.000000\n",
       "2       8.27  12.75   1.06  0.596  18.797552       0.940399\n",
       "3       6.54   5.23   0.76  1.189  15.132508       0.000000\n",
       "4       8.52   0.96   0.72  0.173  13.431356       1.000000\n",
       "...      ...    ...    ...    ...        ...            ...\n",
       "39547   5.83   0.17   0.52  0.474   6.982245       0.429074\n",
       "39548   7.05  18.12   0.92  0.424  18.340790       1.000000\n",
       "39549   9.21   3.89   1.46  0.227  17.159748       0.982214\n",
       "39550   9.01   2.13   1.46  1.467  15.651898       0.008993\n",
       "39551   9.12   3.82   0.79  0.480  17.030317       1.000000\n",
       "\n",
       "[39552 rows x 6 columns]"
      ]
     },
     "execution_count": 12,
     "metadata": {},
     "output_type": "execute_result"
    }
   ],
   "source": [
    "encoder = ce.TargetEncoder(cols='TargetEncoded')\n",
    "encoder.fit(df['TargetEncoded'],y)\n",
    "df['TargetEncoded'] = encoder.transform(df['TargetEncoded'], y)\n",
    "df\n"
   ]
  },
  {
   "cell_type": "code",
   "execution_count": 13,
   "metadata": {},
   "outputs": [],
   "source": [
    "x= df\n",
    "x_train,x_test,y_train,y_test = train_test_split(x,y,test_size=0.3)\n"
   ]
  },
  {
   "cell_type": "code",
   "execution_count": 14,
   "metadata": {},
   "outputs": [
    {
     "name": "stdout",
     "output_type": "stream",
     "text": [
      "Accuracy: 0.9636777347041968\n"
     ]
    }
   ],
   "source": [
    "knn = KNeighborsClassifier(n_neighbors=42)\n",
    "knn.fit(x_train, y_train)\n",
    "y_pred = knn.predict(x_test)\n",
    "accuracy = accuracy_score(y_test, y_pred)\n",
    "print(\"Accuracy:\", accuracy)\n"
   ]
  },
  {
   "cell_type": "code",
   "execution_count": 24,
   "metadata": {},
   "outputs": [
    {
     "name": "stdout",
     "output_type": "stream",
     "text": [
      "Desempenho do modelo em cada fold: [0.96422703 0.96460624 0.96624526 0.9653603  0.96472819]\n",
      "Média do desempenho: 0.9650334049742065\n"
     ]
    },
    {
     "data": {
      "text/plain": [
       "Vmag             0.234800\n",
       "Plx              2.232784\n",
       "e_Plx            0.141386\n",
       "B-V              0.092206\n",
       "Amag             0.438427\n",
       "TargetEncoded    0.081149\n",
       "dtype: float64"
      ]
     },
     "execution_count": 24,
     "metadata": {},
     "output_type": "execute_result"
    }
   ],
   "source": [
    "from sklearn.model_selection import cross_val_score\n",
    "import numpy as np\n",
    "modelo = KNeighborsClassifier(n_neighbors=42)\n",
    "k_fold = 5\n",
    "crossval = cross_val_score(modelo,x,y,cv=k_fold)\n",
    "print(\"Desempenho do modelo em cada fold:\", crossval)\n",
    "print(\"Média do desempenho:\", crossval.mean())\n",
    "np.std(df)/np.mean(df)"
   ]
  },
  {
   "cell_type": "code",
   "execution_count": null,
   "metadata": {},
   "outputs": [],
   "source": []
  }
 ],
 "metadata": {
  "kernelspec": {
   "display_name": "Python 3",
   "language": "python",
   "name": "python3"
  },
  "language_info": {
   "codemirror_mode": {
    "name": "ipython",
    "version": 3
   },
   "file_extension": ".py",
   "mimetype": "text/x-python",
   "name": "python",
   "nbconvert_exporter": "python",
   "pygments_lexer": "ipython3",
   "version": "3.10.8"
  },
  "orig_nbformat": 4
 },
 "nbformat": 4,
 "nbformat_minor": 2
}
