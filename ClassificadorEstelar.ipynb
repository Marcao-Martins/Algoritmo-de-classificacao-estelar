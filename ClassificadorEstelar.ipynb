{
 "cells": [
  {
   "cell_type": "code",
   "execution_count": null,
   "metadata": {},
   "outputs": [],
   "source": [
    "import pandas as pd\n",
    "from sklearn.neighbors import KNeighborsClassifier # knn\n",
    "from sklearn.model_selection import train_test_split # separação de treino e teste\n",
    "from sklearn.metrics import accuracy_score # para medir a acurácia\n",
    "from sklearn.model_selection import RandomizedSearchCV # para aumentar a acuracia"
   ]
  },
  {
   "cell_type": "code",
   "execution_count": 2,
   "metadata": {},
   "outputs": [
    {
     "ename": "NameError",
     "evalue": "name 'pd' is not defined",
     "output_type": "error",
     "traceback": [
      "\u001b[0;31m---------------------------------------------------------------------------\u001b[0m",
      "\u001b[0;31mNameError\u001b[0m                                 Traceback (most recent call last)",
      "Cell \u001b[0;32mIn[2], line 1\u001b[0m\n\u001b[0;32m----> 1\u001b[0m df \u001b[39m=\u001b[39m pd\u001b[39m.\u001b[39mread_csv(\u001b[39m\"\u001b[39m\u001b[39mhttps://raw.githubusercontent.com/semcovici/Datasets/main/StellarClassification/Star39552_balanced.csv\u001b[39m\u001b[39m\"\u001b[39m)\n\u001b[1;32m      2\u001b[0m df\u001b[39m.\u001b[39mpop(\u001b[39m\"\u001b[39m\u001b[39mSpType\u001b[39m\u001b[39m\"\u001b[39m)\n",
      "\u001b[0;31mNameError\u001b[0m: name 'pd' is not defined"
     ]
    }
   ],
   "source": [
    "\n",
    "df = pd.read_csv(\"https://raw.githubusercontent.com/semcovici/Datasets/main/StellarClassification/Star39552_balanced.csv\")\n",
    "df.pop(\"SpType\")"
   ]
  },
  {
   "cell_type": "code",
   "execution_count": null,
   "metadata": {},
   "outputs": [
    {
     "name": "stdout",
     "output_type": "stream",
     "text": [
      "Features:\n",
      "        Vmag    Plx  e_Plx    B-V       Amag\n",
      "0      10.00  31.66   6.19  1.213  22.502556\n",
      "1       8.26   3.21   1.00  1.130  15.792525\n",
      "2       8.27  12.75   1.06  0.596  18.797552\n",
      "3       6.54   5.23   0.76  1.189  15.132508\n",
      "4       8.52   0.96   0.72  0.173  13.431356\n",
      "...      ...    ...    ...    ...        ...\n",
      "39547   5.83   0.17   0.52  0.474   6.982245\n",
      "39548   7.05  18.12   0.92  0.424  18.340790\n",
      "39549   9.21   3.89   1.46  0.227  17.159748\n",
      "39550   9.01   2.13   1.46  1.467  15.651898\n",
      "39551   9.12   3.82   0.79  0.480  17.030317\n",
      "\n",
      "[39552 rows x 5 columns]\n",
      "\n",
      "\n",
      "Label:\n",
      "0        1\n",
      "1        0\n",
      "2        1\n",
      "3        0\n",
      "4        1\n",
      "        ..\n",
      "39547    0\n",
      "39548    1\n",
      "39549    1\n",
      "39550    0\n",
      "39551    1\n",
      "Name: TargetClass, Length: 39552, dtype: int64\n"
     ]
    }
   ],
   "source": [
    "y = df.pop('TargetClass')\n",
    "X = df\n",
    "print('Features:')\n",
    "print(X)\n",
    "print('\\n\\nLabel:')\n",
    "print(y)"
   ]
  },
  {
   "cell_type": "code",
   "execution_count": null,
   "metadata": {},
   "outputs": [],
   "source": [
    "x_train,x_test ,y_train,y_test = train_test_split(X,y , test_size= 0.3)"
   ]
  },
  {
   "cell_type": "code",
   "execution_count": null,
   "metadata": {},
   "outputs": [
    {
     "data": {
      "text/plain": [
       "array([0, 0, 1, ..., 1, 0, 0])"
      ]
     },
     "execution_count": 50,
     "metadata": {},
     "output_type": "execute_result"
    }
   ],
   "source": [
    "knn = KNeighborsClassifier(n_neighbors=58)\n",
    "knn.fit(x_train, y_train)\n",
    "y_pred = knn.predict(x_test)\n",
    "y_pred"
   ]
  },
  {
   "cell_type": "code",
   "execution_count": null,
   "metadata": {},
   "outputs": [
    {
     "name": "stdout",
     "output_type": "stream",
     "text": [
      "Accuracy: 0.8734198550480364\n"
     ]
    }
   ],
   "source": [
    "accuracy = accuracy_score(y_test, y_pred)\n",
    "print(\"Accuracy:\", accuracy)\n"
   ]
  },
  {
   "cell_type": "code",
   "execution_count": 3,
   "metadata": {},
   "outputs": [],
   "source": [
    "from sklearn.model_selection import RandomizedSearchCV\n",
    "k_values = list(range(1, 300))\n",
    "knn = KNeighborsClassifier()\n",
    "dic = {'n_neighbors':k_values}\n",
    "random_search = RandomizedSearchCV(knn, dic, n_iter=15, cv=5, random_state=42)\n",
    "random_search.fit(x_train, y_train)\n",
    "print(\"Melhores parâmetros encontrados:\", random_search.best_params_)"
   ]
  },
  {
   "cell_type": "code",
   "execution_count": null,
   "metadata": {},
   "outputs": [],
   "source": []
  }
 ],
 "metadata": {
  "kernelspec": {
   "display_name": "Python 3",
   "language": "python",
   "name": "python3"
  },
  "language_info": {
   "codemirror_mode": {
    "name": "ipython",
    "version": 3
   },
   "file_extension": ".py",
   "mimetype": "text/x-python",
   "name": "python",
   "nbconvert_exporter": "python",
   "pygments_lexer": "ipython3",
   "version": "3.10.8"
  },
  "orig_nbformat": 4
 },
 "nbformat": 4,
 "nbformat_minor": 2
}
